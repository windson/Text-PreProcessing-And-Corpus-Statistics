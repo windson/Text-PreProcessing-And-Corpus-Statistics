{
 "cells": [
  {
   "cell_type": "markdown",
   "metadata": {},
   "source": [
    "### Parse Data"
   ]
  },
  {
   "cell_type": "code",
   "execution_count": 1,
   "metadata": {},
   "outputs": [],
   "source": [
    "import gzip\n",
    "import pandas as pd\n",
    "\n",
    "def parse_data(path):\n",
    "    #read data from zip file\n",
    "    data=[]\n",
    "    fl = gzip.open(path, 'r')\n",
    "    for ln in fl:\n",
    "        data.append(eval(ln))\n",
    "    dct = {}\n",
    "    i = 0\n",
    "    for d in data:\n",
    "        dct[i] = d\n",
    "        i += 1\n",
    "    df= pd.DataFrame.from_dict(dct, orient='index')\n",
    "    df['reviewTime'] = pd.to_datetime(df['reviewTime'])\n",
    "    return df"
   ]
  },
  {
   "cell_type": "markdown",
   "metadata": {},
   "source": [
    "### Text Processing    "
   ]
  },
  {
   "cell_type": "code",
   "execution_count": 2,
   "metadata": {},
   "outputs": [],
   "source": [
    "import string\n",
    "import nltk\n",
    "from nltk.tokenize import RegexpTokenizer\n",
    "from nltk.corpus import stopwords\n",
    "import re\n",
    "\n",
    "def text_processing(text):\n",
    "    stop_words = set(stopwords.words('english'))\n",
    "    #word_tokens = word_tokenize(text)\n",
    "    tokenizer = RegexpTokenizer(r'\\w+')\n",
    "    word_tokens = tokenizer.tokenize(text)\n",
    "    return [w for w in word_tokens if not w in stop_words]"
   ]
  },
  {
   "cell_type": "code",
   "execution_count": 3,
   "metadata": {},
   "outputs": [],
   "source": [
    "from datetime import datetime\n",
    "def df_time_period(df, start_date, end_date):\n",
    "    try:\n",
    "        if(datetime.strptime(start_date, '%Y-%m-%d')>datetime.strptime(end_date, '%Y-%m-%d')):\n",
    "            raise ValueError()\n",
    "        return df.loc[(df['reviewTime']>start_date) & (df['reviewTime']<end_date)]\n",
    "    except:\n",
    "        print(\"start date cannot be later than end date\")\n",
    "        return"
   ]
  },
  {
   "cell_type": "markdown",
   "metadata": {},
   "source": [
    "### Task 1"
   ]
  },
  {
   "cell_type": "code",
   "execution_count": 4,
   "metadata": {
    "collapsed": true
   },
   "outputs": [],
   "source": [
    "import collections\n",
    "def Task1():\n",
    "    datasets=['datasets\\\\reviews_Baby_5.json.gz','datasets\\\\reviews_Beauty_5.json.gz','datasets\\\\reviews_Grocery_and_Gourmet_Food_5.json.gz']\n",
    "    start_dt='2005-01-01'\n",
    "    end_dt='2009-01-01'\n",
    "    for ds in datasets:\n",
    "        df=parse_data(ds)\n",
    "        df_sub=df_time_period(df,start_dt,end_dt)\n",
    "        review_text = df_sub['reviewText'].str.cat(sep=',').lower()\n",
    "        words=text_processing(review_text)\n",
    "        print('Top 20 words with count for dataset',ds,'between',start_dt,'and',end_dt)\n",
    "        print(collections.Counter(list(words)).most_common(20))"
   ]
  },
  {
   "cell_type": "markdown",
   "metadata": {},
   "source": [
    "### Task 2"
   ]
  },
  {
   "cell_type": "code",
   "execution_count": 5,
   "metadata": {
    "collapsed": true
   },
   "outputs": [],
   "source": [
    "def get_log():\n",
    "    dataset='datasets\\\\reviews_Beauty_5.json.gz'\n",
    "    df=parse_data(dataset)\n",
    "    df_review_text=df[['reviewText']]\n",
    "    T=[]\n",
    "    M=set()\n",
    "    cols = ['ReviewSeqNo','T', 'M']\n",
    "    log=[]\n",
    "    for idx, review in df_review_text.iterrows():\n",
    "        words=text_processing(review['reviewText'])\n",
    "        T.extend(words)\n",
    "        M.update(words)\n",
    "        log.append([idx+1,len(T),len(M)])\n",
    "    df_log=pd.DataFrame(log,columns=cols)\n",
    "    return df_log"
   ]
  },
  {
   "cell_type": "code",
   "execution_count": 6,
   "metadata": {
    "collapsed": true
   },
   "outputs": [],
   "source": [
    "%matplotlib inline\n",
    "import numpy as np\n",
    "import matplotlib.pyplot as plt\n",
    "\n",
    "def plot_log10M_log10T(data):\n",
    "    fig = plt.figure()\n",
    "    ax = plt.subplot(111)\n",
    "    ax.plot(data['ReviewSeqNo'] ,np.log10(data['T']), label = 'log10T') \n",
    "    ax.plot(data['ReviewSeqNo'],np.log10(data['M']), label = 'log10M')\n",
    "    plt.title('log10M vs log10T')\n",
    "    ax.legend(loc='lower right', shadow=True, ncol=2)\n",
    "    plt.savefig('output\\log10M_vs_log10T.png')"
   ]
  },
  {
   "cell_type": "code",
   "execution_count": 7,
   "metadata": {
    "collapsed": true
   },
   "outputs": [],
   "source": [
    "def Task2():\n",
    "    print('Generating log')\n",
    "    log=get_log()\n",
    "    print('Exporting seq_T_M_log.csv')\n",
    "    log.to_csv('output\\\\seq_T_M_log.csv', index=False, encoding='utf-8')\n",
    "    print('Plotting log10M vs log10T')\n",
    "    plot_log10M_log10T(log)"
   ]
  },
  {
   "cell_type": "code",
   "execution_count": 8,
   "metadata": {
    "collapsed": true
   },
   "outputs": [],
   "source": [
    "def main():\n",
    "    print('Executing Task 1')\n",
    "    Task1()\n",
    "    print('End of Task 1')\n",
    "    print('Executing Task 2')\n",
    "    Task2()\n",
    "    print('End of Task 2')"
   ]
  },
  {
   "cell_type": "code",
   "execution_count": 9,
   "metadata": {
    "scrolled": true
   },
   "outputs": [
    {
     "name": "stdout",
     "output_type": "stream",
     "text": [
      "Executing Task 1\n",
      "Top 20 words with count for dataset datasets\\reviews_Baby_5.json.gz between 2005-01-01 and 2009-01-01\n",
      "[('baby', 4423), ('one', 3422), ('use', 2826), ('would', 2350), ('like', 2252), ('get', 2234), ('great', 2209), ('also', 1942), ('time', 1870), ('son', 1821), ('really', 1713), ('little', 1660), ('bottles', 1657), ('old', 1645), ('seat', 1644), ('months', 1560), ('much', 1555), ('daughter', 1463), ('put', 1460), ('well', 1459)]\n",
      "Top 20 words with count for dataset datasets\\reviews_Beauty_5.json.gz between 2005-01-01 and 2009-01-01\n",
      "[('hair', 3159), ('skin', 3010), ('product', 2699), ('use', 2312), ('like', 2110), ('one', 1498), ('would', 1233), ('really', 1170), ('good', 1157), ('using', 1150), ('well', 1110), ('used', 1099), ('also', 1061), ('get', 1056), ('face', 1035), ('dry', 998), ('great', 983), ('time', 892), ('little', 867), ('products', 853)]\n",
      "Top 20 words with count for dataset datasets\\reviews_Grocery_and_Gourmet_Food_5.json.gz between 2005-01-01 and 2009-01-01\n",
      "[('like', 5188), ('good', 4198), ('taste', 4094), ('flavor', 3348), ('one', 3006), ('tea', 2844), ('great', 2634), ('coffee', 2519), ('would', 2301), ('product', 2263), ('really', 1885), ('much', 1821), ('also', 1786), ('little', 1732), ('sugar', 1681), ('drink', 1649), ('love', 1584), ('get', 1566), ('make', 1465), ('use', 1431)]\n",
      "End of Task 1\n",
      "Executing Task 2\n",
      "Generating log\n",
      "Exporting seq_T_M_log.csv\n",
      "Plotting log10M vs log10T\n",
      "End of Task 2\n"
     ]
    },
    {
     "data": {
      "image/png": "[encoded data removed]",
      "text/plain": [
       "<matplotlib.figure.Figure at 0x23dfa8d8470>"
      ]
     },
     "metadata": {},
     "output_type": "display_data"
    }
   ],
   "source": [
    "if __name__ == \"__main__\":\n",
    "    main()"
   ]
  }
 ],
 "metadata": {
  "kernelspec": {
   "display_name": "Python 3",
   "language": "python",
   "name": "python3"
  },
  "language_info": {
   "codemirror_mode": {
    "name": "ipython",
    "version": 3
   },
   "file_extension": ".py",
   "mimetype": "text/x-python",
   "name": "python",
   "nbconvert_exporter": "python",
   "pygments_lexer": "ipython3",
   "version": "3.6.2"
  }
 },
 "nbformat": 4,
 "nbformat_minor": 2
}
